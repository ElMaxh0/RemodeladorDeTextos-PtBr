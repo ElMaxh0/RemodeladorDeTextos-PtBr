{
 "cells": [
  {
   "cell_type": "code",
   "execution_count": 4,
   "id": "14cb727b",
   "metadata": {
    "scrolled": true
   },
   "outputs": [
    {
     "name": "stdout",
     "output_type": "stream",
     "text": [
      "RESUMO:\n",
      "\n",
      "  A partir do século XX , destacam-se as tecnologias de informação e comunicação através da evolução das telecomunicações , utilização dos computadores , desenvolvimento da internet e ainda , as tecnologias avançadas , que englobam  refinar  utilização de Energia Nuclear , Nanotecnologia , Biotecnologia ,  sketch .\n"
     ]
    },
    {
     "name": "stderr",
     "output_type": "stream",
     "text": [
      "[nltk_data] Downloading package stopwords to\n",
      "[nltk_data]     C:\\Users\\picin\\AppData\\Roaming\\nltk_data...\n",
      "[nltk_data]   Package stopwords is already up-to-date!\n",
      "[nltk_data] Downloading package punkt to\n",
      "[nltk_data]     C:\\Users\\picin\\AppData\\Roaming\\nltk_data...\n",
      "[nltk_data]   Package punkt is already up-to-date!\n"
     ]
    }
   ],
   "source": [
    "#IMPORTADO DEPENDENCIAS \n",
    "import nltk as nl\n",
    "import pandas as pd\n",
    "import random\n",
    "nl.download('stopwords')\n",
    "nl.download('punkt')\n",
    "from nltk import sent_tokenize\n",
    "from nltk import word_tokenize\n",
    "from nltk.corpus import stopwords\n",
    "\n",
    "#BASE DE DADOS DE SINONIMOS \n",
    "sinonimos=\"D:\\BaseSinonimos.csv\"\n",
    "dicsin = pd.read_csv(sinonimos)\n",
    "\n",
    "#CONTEUDO A SER PROCESSADO \n",
    "texto = \"A partir do século XX, destacam-se as tecnologias de informação e comunicação através da evolução das telecomunicações, utilização dos computadores, desenvolvimento da internet e ainda, as tecnologias avançadas, que englobam a utilização de Energia Nuclear, Nanotecnologia, Biotecnologia, etc. Atualmente, a alta tecnologia, ou seja, a tecnologia mais avançada é conhecida como tecnologia de ponta\"\n",
    "\n",
    "#CODIGO RESPONSAVEL POR RESUMIR O TEXTO \n",
    "\n",
    "palavras = word_tokenize(texto)\n",
    "palReservada = set(stopwords.words(\"portuguese\"))\n",
    "tablaFrec = dict()\n",
    "for palavra in palavras:\n",
    "    \n",
    "    palavra = palavra.lower()\n",
    "    \n",
    "    if palavra in palReservada:\n",
    "        continue\n",
    "        \n",
    "    if palavra in tablaFrec:\n",
    "        \n",
    "        tablaFrec[palavra] += 1\n",
    "    else:\n",
    "        \n",
    "        tablaFrec[palavra] = 1\n",
    "\n",
    "oracoes = sent_tokenize(texto)\n",
    "valororacoes = dict()\n",
    "sumaValores= int()\n",
    "for oracao in oracoes:\n",
    "    for palavra, frec in tablaFrec.items():\n",
    "        if palavra in oracao.lower():\n",
    "            if oracao in valororacoes:\n",
    "                valororacoes[oracao] += frec\n",
    "            else:\n",
    "                valororacoes[oracao] = frec\n",
    "for oracao in valororacoes:\n",
    "    sumaValores += valororacoes[oracao]\n",
    "promedio = int(sumaValores/(len(valororacoes)))\n",
    "RESUMO = ''\n",
    "for oracao in oracoes:    \n",
    "    if (oracao in valororacoes) and (valororacoes[oracao] > (1.2 * promedio)):\n",
    "        RESUMO += \" \" + oracao\n",
    "\n",
    "\n",
    "#TROCA DE PALAVRAS POR SINONIMOS \n",
    "resumidoPalavras =word_tokenize(RESUMO)\n",
    "resultsinonimCheck =[]\n",
    "RESULTSinonimsCatalog =\"\"\n",
    "for databusca in resumidoPalavras:\n",
    "    randontp = random.randint(0,10)\n",
    "    if randontp == 1 :\n",
    "            elemento_encontrado = None\n",
    "            for s in dicsin[\"Palavras Similares\"]:\n",
    "                if databusca in s:\n",
    "                    elemento_encontrado = s\n",
    "                    break\n",
    "            sinonimdata = elemento_encontrado\n",
    "            if sinonimdata == None:\n",
    "                sinonimossaida = databusca\n",
    "            else :\n",
    "                semelhantpalavras= sinonimdata.split(\";\")\n",
    "                sinonimossaida=semelhantpalavras[random.randint(0,((len(semelhantpalavras))-1))]\n",
    "    else:\n",
    "        sinonimossaida = databusca\n",
    "    resultsinonimCheck.append(sinonimossaida)\n",
    "    RESULTSinonimsCatalog += \" \"+ sinonimossaida\n",
    "print(\"RESUMO:\\n\\n\", RESULTSinonimsCatalog)"
   ]
  },
  {
   "cell_type": "code",
   "execution_count": 1,
   "id": "829090e9",
   "metadata": {
    "scrolled": true
   },
   "outputs": [],
   "source": [
    "#import pandas as pd\n",
    "#import random\n",
    "#sinonimos=\"D:\\BaseSinonimos.csv\"\n",
    "#databusca = \"acl\"\n",
    "#dicsin = pd.read_csv(sinonimos)\n",
    "#elemento_encontrado = None\n",
    "#databusca = 'local'\n",
    "#for s in dicsin[\"Palavras Similares\"]:\n",
    "#    if databusca in s:\n",
    "#        elemento_encontrado = s\n",
    "#        break\n",
    "#sinonimdata = elemento_encontrado\n",
    "#if sinonimdata == None:\n",
    "#    print(\"Not foun sinonims\")\n",
    "#    sinonimossaida= databusca\n",
    "#else :\n",
    "#    print(\"Found Sinonims\")\n",
    "#    semelhantpalavras= sinonimdata.split(\";\")\n",
    "#    sinonimossaida=semelhantpalavras[random.randint(0,((len(semelhantpalavras))-1))]\n",
    "#print(sinonimossaida)\n",
    "    \n"
   ]
  },
  {
   "cell_type": "code",
   "execution_count": null,
   "id": "7f4f83b0",
   "metadata": {},
   "outputs": [],
   "source": []
  },
  {
   "cell_type": "code",
   "execution_count": null,
   "id": "9f8b7c43",
   "metadata": {},
   "outputs": [],
   "source": []
  },
  {
   "cell_type": "code",
   "execution_count": null,
   "id": "38a84258",
   "metadata": {},
   "outputs": [],
   "source": []
  },
  {
   "cell_type": "code",
   "execution_count": null,
   "id": "4ac74dc9",
   "metadata": {},
   "outputs": [],
   "source": []
  }
 ],
 "metadata": {
  "kernelspec": {
   "display_name": "Python 3 (ipykernel)",
   "language": "python",
   "name": "python3"
  },
  "language_info": {
   "codemirror_mode": {
    "name": "ipython",
    "version": 3
   },
   "file_extension": ".py",
   "mimetype": "text/x-python",
   "name": "python",
   "nbconvert_exporter": "python",
   "pygments_lexer": "ipython3",
   "version": "3.9.7"
  }
 },
 "nbformat": 4,
 "nbformat_minor": 5
}
